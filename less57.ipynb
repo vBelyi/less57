{
 "cells": [
  {
   "cell_type": "code",
   "execution_count": 24,
   "id": "30e8b27a",
   "metadata": {},
   "outputs": [],
   "source": [
    "import cv2"
   ]
  },
  {
   "cell_type": "code",
   "execution_count": 25,
   "id": "125ef4cf",
   "metadata": {},
   "outputs": [],
   "source": [
    "#Зчитування зображення з диску та його відображення на екрані\n",
    "def show_image_with_opencv(image_path):\n",
    "    try:\n",
    "        image = cv2.imread(image_path)\n",
    "        cv2.imshow('Зображення', image)\n",
    "        cv2.waitKey(0)\n",
    "        cv2.destroyAllWindows()\n",
    "    except Exception as e:\n",
    "        print(\"Помилка: \", e)"
   ]
  },
  {
   "cell_type": "code",
   "execution_count": 5,
   "id": "b4c8cab6",
   "metadata": {},
   "outputs": [],
   "source": [
    "show_image_with_opencv(\"image1.jpg\")"
   ]
  },
  {
   "cell_type": "code",
   "execution_count": 26,
   "id": "d17dcb8c",
   "metadata": {},
   "outputs": [],
   "source": [
    "#Збереження зображення на диск\n",
    "def save_image_with_opencv(image_path, output_path):\n",
    "    try:\n",
    "        image = cv2.imread(image_path)\n",
    "        cv2.imwrite(output_path, image)\n",
    "        print(f\"Зображення збережено: {output_path}\")\n",
    "    except Exception as e:\n",
    "        print(\"Помилка: \", e)"
   ]
  },
  {
   "cell_type": "code",
   "execution_count": 27,
   "id": "8a8921dc",
   "metadata": {},
   "outputs": [
    {
     "name": "stdout",
     "output_type": "stream",
     "text": [
      "Зображення збережено: image2.jpg\n"
     ]
    }
   ],
   "source": [
    "image_path = \"image1.jpg\"\n",
    "output_path = \"image2.jpg\"\n",
    "\n",
    "save_image_with_opencv(image_path, output_path)"
   ]
  },
  {
   "cell_type": "code",
   "execution_count": 28,
   "id": "56eff2d7",
   "metadata": {},
   "outputs": [],
   "source": [
    "#1.Зміна контрастності та яскравості\n",
    "def adjust_contrast_brightness(image, contrast_factor, brightness_factor):\n",
    "    image_with_contrast = cv2.convertScaleAbs(image, alpha=contrast_factor)\n",
    "    image_with_contrast_brightness = cv2.convertScaleAbs(image_with_contrast, beta=brightness_factor)\n",
    "    return image_with_contrast_brightness"
   ]
  },
  {
   "cell_type": "code",
   "execution_count": 29,
   "id": "9244a934",
   "metadata": {},
   "outputs": [],
   "source": [
    "#2.Зміна яскравості\n",
    "def adjust_brightness(image, brightness_factor):\n",
    "    image_with_brightness = cv2.convertScaleAbs(image, beta=brightness_factor)\n",
    "    return image_with_brightness"
   ]
  },
  {
   "cell_type": "code",
   "execution_count": 30,
   "id": "c3680ff7",
   "metadata": {},
   "outputs": [],
   "source": [
    "#3.Зміна насиченості\n",
    "def adjust_saturation(image, saturation_factor):\n",
    "    hsv_image = cv2.cvtColor(image, cv2.COLOR_BGR2HSV)\n",
    "    hsv_image[:, :, 1] = hsv_image[:, :, 1] * saturation_factor\n",
    "    saturated_image = cv2.cvtColor(hsv_image, cv2.COLOR_HSV2BGR)\n",
    "    return saturated_image"
   ]
  },
  {
   "cell_type": "code",
   "execution_count": 31,
   "id": "28de7e95",
   "metadata": {},
   "outputs": [],
   "source": [
    "#4.Зміна розміру зображення\n",
    "def resize_image(image, new_width, new_height):\n",
    "    resized_image = cv2.resize(image, (new_width, new_height), interpolation=cv2.INTER_LANCZOS4)\n",
    "    return resized_image"
   ]
  },
  {
   "cell_type": "code",
   "execution_count": 32,
   "id": "f3726fa8",
   "metadata": {},
   "outputs": [],
   "source": [
    "#5.Обрізання зображення\n",
    "def crop_image(image, start_x, start_y, end_x, end_y):\n",
    "    cropped_image = image[start_y:end_y, start_x:end_x]\n",
    "    return cropped_image"
   ]
  },
  {
   "cell_type": "code",
   "execution_count": 33,
   "id": "23035809",
   "metadata": {},
   "outputs": [],
   "source": [
    "#6.Поворот зображення на заданий кут\n",
    "def rotate_image(image, angle_degrees):\n",
    "    height, width = image.shape[:2]\n",
    "    rotation_matrix = cv2.getRotationMatrix2D((width / 2, height / 2), angle_degrees, 1)\n",
    "    rotated_image = cv2.warpAffine(image, rotation_matrix, (width, height), flags=cv2.INTER_LANCZOS4)\n",
    "    return rotated_image"
   ]
  },
  {
   "cell_type": "code",
   "execution_count": 34,
   "id": "d57c2567",
   "metadata": {},
   "outputs": [],
   "source": [
    "image = cv2.imread(image_path)"
   ]
  },
  {
   "cell_type": "code",
   "execution_count": 35,
   "id": "4b8739f7",
   "metadata": {},
   "outputs": [
    {
     "name": "stdout",
     "output_type": "stream",
     "text": [
      "Зображення збережено за шляхом: image2.jpg\n"
     ]
    }
   ],
   "source": [
    "#Зміна контрастності та яскравості\n",
    "image = adjust_contrast_brightness(image, contrast_factor=1.5, brightness_factor=50)\n",
    "#Зміна яскравості\n",
    "image = adjust_brightness(image, brightness_factor=50)\n",
    "#Зміна насиченості\n",
    "cv2.imwrite(output_path, image)\n",
    "print(f\"Зображення збережено за шляхом: {output_path}\")"
   ]
  },
  {
   "cell_type": "code",
   "execution_count": 36,
   "id": "7ca3e3c0",
   "metadata": {},
   "outputs": [],
   "source": [
    "show_image_with_opencv(\"image2.jpg\")"
   ]
  },
  {
   "cell_type": "code",
   "execution_count": null,
   "id": "65d0d29a",
   "metadata": {},
   "outputs": [],
   "source": []
  }
 ],
 "metadata": {
  "kernelspec": {
   "display_name": "Python 3 (ipykernel)",
   "language": "python",
   "name": "python3"
  },
  "language_info": {
   "codemirror_mode": {
    "name": "ipython",
    "version": 3
   },
   "file_extension": ".py",
   "mimetype": "text/x-python",
   "name": "python",
   "nbconvert_exporter": "python",
   "pygments_lexer": "ipython3",
   "version": "3.9.13"
  }
 },
 "nbformat": 4,
 "nbformat_minor": 5
}
